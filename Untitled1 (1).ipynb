{
 "cells": [
  {
   "cell_type": "code",
   "execution_count": 1,
   "id": "f76756ab-6f71-4267-bc72-5b96db0fd737",
   "metadata": {},
   "outputs": [],
   "source": [
    "from IPython.display import Image "
   ]
  },
  {
   "cell_type": "code",
   "execution_count": 3,
   "id": "e45e8df9-e647-4618-837f-f33df9d34983",
   "metadata": {},
   "outputs": [
    {
     "data": {
      "text/html": [
       "<img src=\"screenshot_url\"/>"
      ],
      "text/plain": [
       "<IPython.core.display.Image object>"
      ]
     },
     "execution_count": 3,
     "metadata": {},
     "output_type": "execute_result"
    }
   ],
   "source": [
    "Image(url=\"screenshot_url\")\n"
   ]
  },
  {
   "cell_type": "code",
   "execution_count": 8,
   "id": "9b8197f8-c3d1-4d6f-8ef0-6cdf35d61e57",
   "metadata": {},
   "outputs": [
    {
     "data": {
      "text/html": [
       "<img src=\"C:\\\\Users\\\\komal\\\\OneDrive\\\\Pictures\\\\Screenshots\\\\Screenshot 2024-02-16 230734.png\"/>"
      ],
      "text/plain": [
       "<IPython.core.display.Image object>"
      ]
     },
     "execution_count": 8,
     "metadata": {},
     "output_type": "execute_result"
    }
   ],
   "source": [
    "from IPython.display import Image\n",
    "\n",
    "# Replace \"screenshot_url\" with the actual URL of your im\n",
    "Image(url=r\"C:\\\\Users\\\")"
   ]
  },
  {
   "cell_type": "markdown",
   "id": "aad6f68e",
   "metadata": {},
   "source": [
    "<img src=\"https://www.shutterstock.com/image-photo/container-cargo-freight-ship-during-600w-2066899724.jpg\" width=\"900\" height=\"300\"/>"
   ]
  },
  {
   "cell_type": "markdown",
   "id": "0877a156",
   "metadata": {},
   "source": [
    "<img src=\"<img src=\"https://www.shutterstock.com/image-photo/container-cargo-freight-ship-during-600w-2066899724.jpg\" width=\"900\" height=\"300\"/>\" width=\"900\" height=\"300\"/>"
   ]
  },
  {
   "cell_type": "markdown",
   "id": "904f5979",
   "metadata": {},
   "source": [
    "<img src=\"C://Users//komal//OneDrive//Pictures//Screenshots//screenshot.jpg\" width=\"900\" height=\"300\"/>"
   ]
  },
  {
   "cell_type": "code",
   "execution_count": 2,
   "id": "ee49d172",
   "metadata": {},
   "outputs": [
    {
     "data": {
      "text/html": [
       "<img src=\"C:\\Users\\komal\\OneDrive\\Pictures\\Screenshots\\Screenshot (1).png\"/>"
      ],
      "text/plain": [
       "<IPython.core.display.Image object>"
      ]
     },
     "execution_count": 2,
     "metadata": {},
     "output_type": "execute_result"
    }
   ],
   "source": [
    "from IPython.display import Image\n",
    "\n",
    "# Replace \"screenshot_url\" with the actual URL of your im\n",
    "Image(url=r\"C:\\Users\\komal\\OneDrive\\Pictures\\Screenshots\\Screenshot (1).png\")"
   ]
  },
  {
   "cell_type": "markdown",
   "id": "db158555",
   "metadata": {},
   "source": []
  },
  {
   "cell_type": "markdown",
   "id": "79fff4d4",
   "metadata": {},
   "source": [
    "Markdown and LaTeX:a2"
   ]
  },
  {
   "cell_type": "markdown",
   "id": "153cb6db",
   "metadata": {},
   "source": [
    "Markdown and LaTeX:a2"
   ]
  },
  {
   "cell_type": "code",
   "execution_count": 8,
   "id": "9641c045",
   "metadata": {},
   "outputs": [
    {
     "ename": "SyntaxError",
     "evalue": "invalid syntax (4051129290.py, line 1)",
     "output_type": "error",
     "traceback": [
      "\u001b[0;36m  Cell \u001b[0;32mIn[8], line 1\u001b[0;36m\u001b[0m\n\u001b[0;31m    <img src=\"C://Users//komal//OneDrive//Pictures//Screenshots//Screenshot (1).png\" width=\"900\" height=\"300\"/>\u001b[0m\n\u001b[0m    ^\u001b[0m\n\u001b[0;31mSyntaxError\u001b[0m\u001b[0;31m:\u001b[0m invalid syntax\n"
     ]
    }
   ],
   "source": [
    "<img src=\"C://Users//komal//OneDrive//Pictures//Screenshots//Screenshot (1).png\" width=\"900\" height=\"300\"/>"
   ]
  },
  {
   "cell_type": "markdown",
   "id": "b4056ac2",
   "metadata": {},
   "source": [
    "https://brown-butcher-qfbqk.pwskills.app/?folder=/config/workspace"
   ]
  },
  {
   "cell_type": "code",
   "execution_count": null,
   "id": "7767ca45",
   "metadata": {},
   "outputs": [],
   "source": []
  }
 ],
 "metadata": {
  "kernelspec": {
   "display_name": "Python 3 (ipykernel)",
   "language": "python",
   "name": "python3"
  },
  "language_info": {
   "codemirror_mode": {
    "name": "ipython",
    "version": 3
   },
   "file_extension": ".py",
   "mimetype": "text/x-python",
   "name": "python",
   "nbconvert_exporter": "python",
   "pygments_lexer": "ipython3",
   "version": "3.10.8"
  }
 },
 "nbformat": 4,
 "nbformat_minor": 5
}
